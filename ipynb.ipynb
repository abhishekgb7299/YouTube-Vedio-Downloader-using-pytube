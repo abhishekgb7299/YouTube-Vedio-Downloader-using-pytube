{
 "cells": [
  {
   "cell_type": "code",
   "execution_count": 2,
   "metadata": {},
   "outputs": [
    {
     "name": "stdout",
     "output_type": "stream",
     "text": [
      "Collecting pytube\n",
      "  Downloading pytube-9.6.0-py3-none-any.whl (32 kB)\n",
      "Installing collected packages: pytube\n",
      "Successfully installed pytube-9.6.0\n",
      "Note: you may need to restart the kernel to use updated packages.\n"
     ]
    },
    {
     "name": "stderr",
     "output_type": "stream",
     "text": [
      "WARNING: You are using pip version 20.1; however, version 20.2.2 is available.\n",
      "You should consider upgrading via the 'c:\\users\\abhishek\\appdata\\local\\programs\\python\\python38-32\\python.exe -m pip install --upgrade pip' command.\n"
     ]
    }
   ],
   "source": [
    "pip install pytube"
   ]
  },
  {
   "cell_type": "code",
   "execution_count": 8,
   "metadata": {},
   "outputs": [
    {
     "name": "stdout",
     "output_type": "stream",
     "text": [
      "Enter the link:https://youtu.be/rBtmXY3zTfw\n",
      "Title:  Search in an almost sorted array | GeeksforGeeks\n",
      "Number of views: 7452\n",
      "Length of video:  219\n",
      "Ratings:  4.7692308\n",
      "Video Downloaded Successfully\n"
     ]
    }
   ],
   "source": [
    "from pytube import YouTube\n",
    "\n",
    "try:\n",
    "    link = input(\"Enter the link:\")\n",
    "    yt_obj = YouTube(link)\n",
    "    #Title of video\n",
    "    print(\"Title: \",yt.title)\n",
    "    #Number of views of video\n",
    "    print(\"Number of views:\",yt.views)\n",
    "    #Length of the video\n",
    "    print(\"Length of video: \",yt.length)\n",
    "    #Rating\n",
    "    print(\"Ratings: \",yt.rating)\n",
    "\n",
    "    filters = yt_obj.streams.filter(progressive=True, file_extension='mp4')\n",
    "\n",
    "    # download the highest quality video\n",
    "    filters.get_highest_resolution().download(output_path='/Users/abhishek/desktop', filename='yt_video.mp4')\n",
    "    print('Video Downloaded Successfully')\n",
    "except Exception as e:\n",
    "    print(e)"
   ]
  },
  {
   "cell_type": "code",
   "execution_count": null,
   "metadata": {},
   "outputs": [],
   "source": []
  }
 ],
 "metadata": {
  "kernelspec": {
   "display_name": "Python 3",
   "language": "python",
   "name": "python3"
  },
  "language_info": {
   "codemirror_mode": {
    "name": "ipython",
    "version": 3
   },
   "file_extension": ".py",
   "mimetype": "text/x-python",
   "name": "python",
   "nbconvert_exporter": "python",
   "pygments_lexer": "ipython3",
   "version": "3.8.2"
  }
 },
 "nbformat": 4,
 "nbformat_minor": 4
}
